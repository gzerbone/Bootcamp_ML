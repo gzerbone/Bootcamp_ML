{
 "cells": [
  {
   "cell_type": "markdown",
   "metadata": {},
   "source": [
    "# Notebook 1"
   ]
  },
  {
   "cell_type": "markdown",
   "metadata": {},
   "source": [
    "### 1 - Explique, com suas palavras, o que é machine learning?  \n",
    "- Machine Learning é uma forma de ensinar a máquina a realizar coisas mundanas, como por exemplo, tomar decisões através de dados passados como método de ensino."
   ]
  },
  {
   "cell_type": "markdown",
   "metadata": {},
   "source": [
    "### 2 - Explique o conceito de conjunto de treinamento, conjunto de validação e conjunto de teste em machine learning.  \n",
    "- Conjunto de treinamento é uma amostra do conjunto de dados total usada para treinar e ensinar o modelo de machine learning a realizar alguma tarefa, o conjunto de validação é uma etapa que ajuda a melhorar o modelo e o conjunto de teste é uma amostra de dados virgens, que ainda não foram testados, esse conjunto é utilizado para ver se o modelo está adepto a utilização ou não."
   ]
  },
  {
   "cell_type": "markdown",
   "metadata": {},
   "source": [
    "### 3 - Explique como você lidaria com dados ausentes em um conjunto de dados de treinamento.  \n",
    "- É necessário entender se a remoção dos dados ausentes seria prejudicial no resultado do treinamento, caso seja, poderíamos substituir o valor ausente por alguma suposição. "
   ]
  },
  {
   "cell_type": "markdown",
   "metadata": {},
   "source": [
    "### 4 - O que é uma matriz de confusão e como ela é usada para avaliar o desempenho de um modelo preditivo?  \n",
    "- Uma matriz de confusão é uma tabela que resume as previsões de um modelo predição \n"
   ]
  },
  {
   "cell_type": "markdown",
   "metadata": {},
   "source": [
    "### 5 -  Em quais áreas (tais como construção civil, agricultura, saúde, manufatura, entre outras) você acha mais interessante aplicar algoritmos de machine learning?  \n",
    "- Acho bem interessante o desenvolvimeno de modelos para a área da medicina."
   ]
  },
  {
   "cell_type": "markdown",
   "metadata": {},
   "source": []
  }
 ],
 "metadata": {
  "kernelspec": {
   "display_name": "Python 3",
   "language": "python",
   "name": "python3"
  },
  "language_info": {
   "codemirror_mode": {
    "name": "ipython",
    "version": 3
   },
   "file_extension": ".py",
   "mimetype": "text/x-python",
   "name": "python",
   "nbconvert_exporter": "python",
   "pygments_lexer": "ipython3",
   "version": "3.8.5"
  }
 },
 "nbformat": 4,
 "nbformat_minor": 4
}
