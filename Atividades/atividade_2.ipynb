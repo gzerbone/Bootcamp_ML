{
 "cells": [
  {
   "cell_type": "markdown",
   "metadata": {},
   "source": [
    "# Notebook 2"
   ]
  },
  {
   "cell_type": "markdown",
   "metadata": {},
   "source": [
    "1 - Escreva uma função que receba uma lista de números e retorne outra lista com os números ímpares.\n"
   ]
  },
  {
   "cell_type": "code",
   "execution_count": 4,
   "metadata": {},
   "outputs": [
    {
     "name": "stdout",
     "output_type": "stream",
     "text": [
      "[1, 3, 5, 7, 9]\n"
     ]
    }
   ],
   "source": [
    "def impares(lista_num):\n",
    "    return [num for num in lista_num if num % 2 != 0]\n",
    "\n",
    "lista = [1,2,3,4,5,6,7,8,9,10]\n",
    "print(impares(lista))"
   ]
  },
  {
   "cell_type": "markdown",
   "metadata": {},
   "source": [
    "2 - Escreva uma função que receba uma lista de números e retorne outra lista com os números primos presentes.\n"
   ]
  },
  {
   "cell_type": "code",
   "execution_count": 12,
   "metadata": {},
   "outputs": [
    {
     "name": "stdout",
     "output_type": "stream",
     "text": [
      "[2, 3, 5, 7]\n"
     ]
    }
   ],
   "source": [
    "def primo(lista_num):\n",
    "    if lista_num < 2:\n",
    "        return False\n",
    "    for num in range(2, int(lista_num ** 0.5) + 1):\n",
    "        if lista_num % num == 0:\n",
    "            return False\n",
    "    return True\n",
    "    \n",
    "\n",
    "lista = [1,2,3,4,5,6,7,8,9,10]\n",
    "primos = [num for num in lista if primo(num)]\n",
    "print(primos)"
   ]
  },
  {
   "cell_type": "markdown",
   "metadata": {},
   "source": [
    "3 - Escreva uma função que receba duas listas e retorne outra lista com os elementos que estão presentes em apenas uma das listas.\n"
   ]
  },
  {
   "cell_type": "code",
   "execution_count": 14,
   "metadata": {},
   "outputs": [
    {
     "name": "stdout",
     "output_type": "stream",
     "text": [
      "[1, 2, 3, 4, 5, 6, 7, 8]\n"
     ]
    }
   ],
   "source": [
    "def lista_unica(lista1, lista2):\n",
    "    return list(set(lista1 + lista2))\n",
    "\n",
    "lista1 = [1, 2, 3, 4, 5]\n",
    "lista2 = [4, 5, 6, 7, 8]\n",
    "\n",
    "print(lista_unica(lista1, lista2)) "
   ]
  },
  {
   "cell_type": "markdown",
   "metadata": {},
   "source": [
    "4 - Dada uma lista de números inteiros, escreva uma função para encontrar o segundo maior valor na lista."
   ]
  },
  {
   "cell_type": "code",
   "execution_count": 19,
   "metadata": {},
   "outputs": [
    {
     "name": "stdout",
     "output_type": "stream",
     "text": [
      "10\n"
     ]
    }
   ],
   "source": [
    "def segundo_maior(lista):\n",
    "    if len(lista) < 2:\n",
    "        return None \n",
    "    maior = max(lista) \n",
    "    lista_filtrada = [num for num in lista if num != maior] \n",
    "    return max(lista_filtrada) \n",
    "\n",
    "lista = [3, 1, 7, 10, 2, 11]\n",
    "print(segundo_maior(lista))  \n"
   ]
  },
  {
   "cell_type": "markdown",
   "metadata": {},
   "source": [
    "5 - Crie uma função que receba uma lista de tuplas, cada uma contendo o nome e a idade de uma pessoa, e retorne a lista ordenada pelo nome das pessoas em ordem alfabética"
   ]
  },
  {
   "cell_type": "code",
   "execution_count": 21,
   "metadata": {},
   "outputs": [
    {
     "name": "stdout",
     "output_type": "stream",
     "text": [
      "[('Ana', 40), ('Carlos', 20), ('João', 25), ('Maria', 30)]\n"
     ]
    }
   ],
   "source": [
    "def ordenar_nome(lista_pessoas):\n",
    "    return sorted(lista_pessoas, key=lambda pessoa: pessoa[0]) \n",
    "\n",
    "pessoas = [(\"Maria\", 30), (\"João\", 25), (\"Ana\", 40), (\"Carlos\", 20)]\n",
    "pessoas_ordenadas = ordenar_nome(pessoas)\n",
    "\n",
    "print(pessoas_ordenadas)\n"
   ]
  },
  {
   "cell_type": "markdown",
   "metadata": {},
   "source": [
    "6 - Observe os espaços sublinhados e complete o código.\n",
    "````python\n",
    "import __________.pyplot as plt\n",
    "import numpy as ___\n",
    "fig, axs = plt.subplots(ncols=2, nrows=2, figsize=(5.5, 3.5),\n",
    " layout=\"constrained\")\n",
    "for ___ in range(2):\n",
    " for ___ in range(2):\n",
    " axs[row, col].annotate(f'axs[{row}, {col}]', (0.5, 0.5),\n",
    " transform=axs[row, col].transAxes,\n",
    " ha='center', va='center', ________=18,\n",
    " color='darkgrey')\n",
    "fig.suptitle('__.subplots()')\n",
    "\n",
    "````"
   ]
  },
  {
   "cell_type": "code",
   "execution_count": 22,
   "metadata": {},
   "outputs": [
    {
     "data": {
      "image/png": "[encoded data removed]",
      "text/plain": [
       "<Figure size 396x252 with 4 Axes>"
      ]
     },
     "metadata": {
      "needs_background": "light"
     },
     "output_type": "display_data"
    }
   ],
   "source": [
    "import matplotlib.pyplot as plt \n",
    "import numpy as np\n",
    "\n",
    "fig, axs = plt.subplots(ncols=2, nrows=2, figsize=(5.5, 3.5), layout=\"constrained\")\n",
    "\n",
    "for row in range(2):\n",
    "    for col in range(2):\n",
    "        axs[row, col].annotate(f'axs[{row}, {col}]', (0.5, 0.5),\n",
    "                               transform=axs[row, col].transAxes,\n",
    "                               ha='center', va='center', fontsize=18,\n",
    "                               color='darkgrey')\n",
    "\n",
    "fig.suptitle('plt.subplots()')\n",
    "plt.show()"
   ]
  },
  {
   "cell_type": "markdown",
   "metadata": {},
   "source": [
    "7 - Observe os espaços sublinhados e complete o código.\n",
    "````python\n",
    "import numpy as np\n",
    "import __________ as mpl\n",
    "import __________.______ as plt\n",
    "x = np.________(-2 * np.pi, 2 * np.pi, 100)\n",
    "y = np.____(x)\n",
    "__, __ = plt.subplots()\n",
    "ax.____(_, _)\n",
    "````"
   ]
  },
  {
   "cell_type": "code",
   "execution_count": 23,
   "metadata": {},
   "outputs": [
    {
     "data": {
      "image/png": "[encoded data removed]",
      "text/plain": [
       "<Figure size 432x288 with 1 Axes>"
      ]
     },
     "metadata": {
      "needs_background": "light"
     },
     "output_type": "display_data"
    }
   ],
   "source": [
    "import numpy as np\n",
    "import matplotlib as mpl \n",
    "import matplotlib.pyplot as plt \n",
    "\n",
    "x = np.linspace(-2 * np.pi, 2 * np.pi, 100)\n",
    "y = np.sin(x)\n",
    "\n",
    "fig, ax = plt.subplots()\n",
    "\n",
    "ax.plot(x, y)\n",
    "plt.show()"
   ]
  },
  {
   "cell_type": "markdown",
   "metadata": {},
   "source": [
    "8 - Utilizando pandas, como realizar a leitura de um arquivo CSV em um DataFrame e exibir as primeiras linhas?"
   ]
  },
  {
   "cell_type": "code",
   "execution_count": null,
   "metadata": {},
   "outputs": [],
   "source": [
    "import pandas as pd\n",
    "\n",
    "# leitura do arquivo CSV\n",
    "df = pd.read_csv(\"arquivo.csv\")\n",
    "\n",
    "# exibição das 5 primeiras linhas\n",
    "print(df.head())"
   ]
  },
  {
   "cell_type": "markdown",
   "metadata": {},
   "source": [
    "9 - Utilizando pandas, como selecionar uma coluna específica e filtrar linhas em um “DataFrame” com base em uma condição?"
   ]
  },
  {
   "cell_type": "code",
   "execution_count": null,
   "metadata": {},
   "outputs": [],
   "source": [
    "coluna_especifica = df[\"nome_da_coluna\"]\n",
    "filtro = df[df[\"idade\"] > 50]\n",
    "\n",
    "print(filtro)"
   ]
  },
  {
   "cell_type": "markdown",
   "metadata": {},
   "source": [
    "10 - Utilizando pandas, como lidar com valores ausentes (NaN) em um DataFrame?\n"
   ]
  },
  {
   "cell_type": "code",
   "execution_count": null,
   "metadata": {},
   "outputs": [],
   "source": [
    "# remover linhas com valores ausentes\n",
    "df_sem_nan = df.dropna()\n",
    "\n",
    "# preencher valores ausentes com um valor específico \n",
    "df_preenchido = df.fillna(0)\n",
    "\n",
    "print(df.isnull().sum())"
   ]
  }
 ],
 "metadata": {
  "kernelspec": {
   "display_name": "Python 3",
   "language": "python",
   "name": "python3"
  },
  "language_info": {
   "codemirror_mode": {
    "name": "ipython",
    "version": 3
   },
   "file_extension": ".py",
   "mimetype": "text/x-python",
   "name": "python",
   "nbconvert_exporter": "python",
   "pygments_lexer": "ipython3",
   "version": "3.10.4"
  }
 },
 "nbformat": 4,
 "nbformat_minor": 4
}
